{
 "cells": [
  {
   "cell_type": "markdown",
   "metadata": {},
   "source": [
    "# Tutorial 2\n",
    "\n",
    "## Make a scenario of Dantzig's Transport Problem using the IX modeling platform (ixmp)\n"
   ]
  },
  {
   "cell_type": "code",
   "execution_count": null,
   "metadata": {
    "collapsed": true
   },
   "outputs": [],
   "source": [
    "# load required packages \n",
    "import pandas as pd\n",
    "import ixmp as ix"
   ]
  },
  {
   "cell_type": "code",
   "execution_count": null,
   "metadata": {
    "collapsed": true
   },
   "outputs": [],
   "source": [
    "# launch the IX modeling platform using the local default database                                                                                                                       \n",
    "mp = ix.Platform(dbtype='HSQLDB')"
   ]
  },
  {
   "cell_type": "code",
   "execution_count": null,
   "metadata": {},
   "outputs": [],
   "source": [
    "# details for loading an existing datastructure from the IX modeling platform                                                                                                                                                     \n",
    "model = \"canning problem\"\n",
    "scen = \"standard\"\n",
    "\n",
    "mp.model_scenario_list()"
   ]
  },
  {
   "cell_type": "code",
   "execution_count": null,
   "metadata": {
    "collapsed": true
   },
   "outputs": [],
   "source": [
    "# load the datastructure\n",
    "ds = mp.DataStructure(model, scen)\n",
    "\n",
    "# create a new scenario by cloning the datastructure (without keeping the solution)\n",
    "ds_scen = ds.clone(model, 'detroit', annotation='extend the Transport problem by a new city', keep_sol=False)"
   ]
  },
  {
   "cell_type": "code",
   "execution_count": null,
   "metadata": {},
   "outputs": [],
   "source": [
    "# load the distance parameter\n",
    "d = ds_scen.par(\"d\")\n",
    "print(d)                                                                                                                                   "
   ]
  },
  {
   "cell_type": "code",
   "execution_count": null,
   "metadata": {},
   "outputs": [],
   "source": [
    "# show only the distances for connections from Seattle\n",
    "print(d[d['i'] == \"seattle\"])"
   ]
  },
  {
   "cell_type": "code",
   "execution_count": null,
   "metadata": {},
   "outputs": [],
   "source": [
    "# for faster access or more complex filtering,\n",
    "# it may be easier to only load specific parameter elements using a dictionary\n",
    "ele_filter = {}\n",
    "ele_filter['i'] = ['seattle']\n",
    "ele_filter['j'] = ['chicago', 'topeka']\n",
    "\n",
    "d_filter = ds.par(\"d\", ele_filter)\n",
    "\n",
    "print(d_filter)"
   ]
  },
  {
   "cell_type": "code",
   "execution_count": null,
   "metadata": {
    "collapsed": true
   },
   "outputs": [],
   "source": [
    "# check out the datastructure to make changes\n",
    "ds_scen.check_out()"
   ]
  },
  {
   "cell_type": "code",
   "execution_count": null,
   "metadata": {
    "collapsed": true
   },
   "outputs": [],
   "source": [
    "# reduce demand \n",
    "ds_scen.add_par('b', 'chicago', 200, 'cases')\n",
    "\n",
    "# add a new city with demand and distances\n",
    "ds_scen.add_set('j', 'detroit')\n",
    "ds_scen.add_par('b', 'detroit', 150, 'cases')\n",
    "ds_scen.add_par('d', ['seattle', 'detroit'], 1.7, 'cases')\n",
    "ds_scen.add_par('d', ['san-diego', 'detroit'], 1.9, 'cases')"
   ]
  },
  {
   "cell_type": "code",
   "execution_count": null,
   "metadata": {
    "collapsed": true
   },
   "outputs": [],
   "source": [
    "# save changes to database\n",
    "comment = \"add new city 'detroit' with demand, reduce demand in 'chicago'\"\n",
    "ds_scen.commit(comment)                                                                                                       \n",
    "ds_scen.set_as_default()"
   ]
  },
  {
   "cell_type": "code",
   "execution_count": null,
   "metadata": {
    "collapsed": true
   },
   "outputs": [],
   "source": [
    "# export the datastructure to GAMS gdx, solve it in GAMS,\n",
    "# and import the solution back to the ix Modeling Platform\n",
    "ds_scen.solve(model='transport_ixmp')"
   ]
  },
  {
   "cell_type": "code",
   "execution_count": null,
   "metadata": {},
   "outputs": [],
   "source": [
    "# display the objective value of the solution\n",
    "ds_scen.var(\"z\")"
   ]
  },
  {
   "cell_type": "code",
   "execution_count": null,
   "metadata": {},
   "outputs": [],
   "source": [
    "# display the quantities transported from canning plants to demand locations\n",
    "ds_scen.var(\"x\")"
   ]
  },
  {
   "cell_type": "code",
   "execution_count": null,
   "metadata": {},
   "outputs": [],
   "source": [
    "# display the quantities and marginals (=shadow prices) of the demand balance constraints\n",
    "ds_scen.equ(\"demand\")"
   ]
  },
  {
   "cell_type": "code",
   "execution_count": null,
   "metadata": {
    "collapsed": true
   },
   "outputs": [],
   "source": [
    "# close the connection of the platform instance to the local database\n",
    "# this removes the 'locking files' so that local database files can be moved\n",
    "mp.close_db()"
   ]
  },
  {
   "cell_type": "code",
   "execution_count": null,
   "metadata": {
    "collapsed": true
   },
   "outputs": [],
   "source": []
  }
 ],
 "metadata": {
  "anaconda-cloud": {},
  "kernelspec": {
   "display_name": "Python 3",
   "language": "python",
   "name": "python3"
  },
  "language_info": {
   "codemirror_mode": {
    "name": "ipython",
    "version": 3
   },
   "file_extension": ".py",
   "mimetype": "text/x-python",
   "name": "python",
   "nbconvert_exporter": "python",
   "pygments_lexer": "ipython3",
   "version": "3.6.0"
  }
 },
 "nbformat": 4,
 "nbformat_minor": 1
}
