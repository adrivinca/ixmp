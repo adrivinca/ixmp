{
 "cells": [
  {
   "cell_type": "markdown",
   "metadata": {},
   "source": [
    "# Tutorial 1 for Python\n",
    "\n",
    "## Solve Dantzig's Transport Problem using the *ix modeling platform* (ixmp)\n",
    "\n",
    "<img style=\"float: right; height: 80px;\" src=\"_static/python.png\">\n",
    "\n",
    "This problem finds a least cost shipping schedule that meets requirements at markets and supplies at factories.\n",
    "\n",
    "Dantzig, G B, Chapter 3.3. In Linear Programming and Extensions.\n",
    "Princeton University Press, Princeton, New Jersey, 1963.\n",
    "\n",
    "This formulation is described in detail in:\n",
    "Rosenthal, R E, Chapter 2: A GAMS Tutorial. \n",
    "In GAMS: A User's Guide. The Scientific Press, Redwood City, California, 1988.\n",
    "\n",
    "see http://www.gams.com/mccarl/trnsport.gms"
   ]
  },
  {
   "cell_type": "markdown",
   "metadata": {},
   "source": [
    "### Launching the platform and initializing a new datastructure\n",
    "\n",
    "This datastructure will be used to store all data required to solve Dantzig's transport problem as well as the solution after solving it in GAMS."
   ]
  },
  {
   "cell_type": "code",
   "execution_count": null,
   "metadata": {
    "collapsed": true
   },
   "outputs": [],
   "source": [
    "# load required packages \n",
    "import pandas as pd\n",
    "import ixmp as ix"
   ]
  },
  {
   "cell_type": "code",
   "execution_count": null,
   "metadata": {},
   "outputs": [],
   "source": [
    "# launch the IX modeling platform using the local default database                                                                                                                       \n",
    "mp = ix.Platform(dbtype='HSQLDB')"
   ]
  },
  {
   "cell_type": "code",
   "execution_count": null,
   "metadata": {},
   "outputs": [],
   "source": [
    "# details for creating a new scenario in the IX modeling platform                                                                                                                                                     \n",
    "model = \"canning problem\"\n",
    "scenario = \"standard\"\n",
    "annot = \"Dantzig's transportation problem for illustration and testing\"   \n",
    "\n",
    "# initialize a new Scenario instance\n",
    "# the parameter version='new' indicates that this is a new datastructure\n",
    "scen = mp.Scenario(model, scenario, version='new', annotation=annot)"
   ]
  },
  {
   "cell_type": "markdown",
   "metadata": {},
   "source": [
    "### Defining the sets in the datastructure"
   ]
  },
  {
   "cell_type": "raw",
   "metadata": {},
   "source": [
    "Sets\n",
    "     i   canning plants   / seattle, san-diego /\n",
    "     j   markets          / new-york, chicago, topeka / ;"
   ]
  },
  {
   "cell_type": "code",
   "execution_count": null,
   "metadata": {},
   "outputs": [],
   "source": [
    "# define the sets of locations of canning plants and markets                                                                                                                             \n",
    "scen.init_set(\"i\")                                                                                                                                                                      \n",
    "scen.add_set(\"i\", [\"seattle\", \"san-diego\"])                                                                                                                                             \n",
    "scen.init_set(\"j\")                                                                                                                                                                      \n",
    "scen.add_set(\"j\", [\"new-york\", \"chicago\", \"topeka\"])                                                                                                                                    "
   ]
  },
  {
   "cell_type": "code",
   "execution_count": null,
   "metadata": {},
   "outputs": [],
   "source": [
    "# display the set 'i'\n",
    "scen.set('i')"
   ]
  },
  {
   "cell_type": "markdown",
   "metadata": {},
   "source": [
    "### Defining parameters in the datastructure"
   ]
  },
  {
   "cell_type": "raw",
   "metadata": {},
   "source": [
    "Parameters\n",
    "     a(i)  capacity of plant i in cases\n",
    "       /    seattle     350\n",
    "            san-diego   600  /\n",
    "     b(j)  demand at market j in cases\n",
    "       /    new-york    325\n",
    "            chicago     300\n",
    "            topeka      275  / ;"
   ]
  },
  {
   "cell_type": "code",
   "execution_count": null,
   "metadata": {},
   "outputs": [],
   "source": [
    "# capacity of plant i in cases                                                                                                                                                           \n",
    "# add parameter elements one-by-one (string and value)                                                                                                                                   \n",
    "scen.init_par(\"a\", idx_sets=\"i\")\n",
    "scen.add_par(\"a\", \"seattle\", 350, \"cases\")\n",
    "scen.add_par(\"a\", \"san-diego\", 600, \"cases\")\n",
    "\n",
    "# demand at market j in cases                                                                                                                                                            \n",
    "# add parameter elements as dataframe (with index names)                                                                                                                                 \n",
    "scen.init_par(\"b\", idx_sets=\"j\")\n",
    "b_data = [\n",
    "    {'j': \"new-york\", 'value': 325, 'unit': \"cases\"},\n",
    "    {'j': \"chicago\",  'value': 300, 'unit': \"cases\"},\n",
    "    {'j': \"topeka\",   'value': 275, 'unit': \"cases\"}\n",
    "]\n",
    "b = pd.DataFrame(b_data)\n",
    "scen.add_par(\"b\", b)"
   ]
  },
  {
   "cell_type": "code",
   "execution_count": null,
   "metadata": {
    "collapsed": true
   },
   "outputs": [],
   "source": [
    "ds.par('b')"
   ]
  },
  {
   "cell_type": "raw",
   "metadata": {},
   "source": [
    "Table d(i,j)  distance in thousands of miles\n",
    "                  new-york       chicago      topeka\n",
    "    seattle          2.5           1.7          1.8\n",
    "    san-diego        2.5           1.8          1.4  ;"
   ]
  },
  {
   "cell_type": "code",
   "execution_count": null,
   "metadata": {},
   "outputs": [],
   "source": [
    "# distance in thousands of miles                                                                                                                                                         \n",
    "scen.init_par(\"d\", idx_sets=[\"i\", \"j\"])\n",
    "# add more parameter elements as dataframe by index names                                                                                                                                \n",
    "d_data = [\n",
    "    {'i': \"seattle\", 'j': \"new-york\", 'value': 2.5, 'unit': \"km\"},\n",
    "    {'i': \"seattle\", 'j': \"chicago\", 'value': 1.7, 'unit': \"km\"},\n",
    "    {'i': \"seattle\", 'j': \"topeka\", 'value': 1.8, 'unit': \"km\"},\n",
    "    {'i': \"san-diego\", 'j': \"new-york\", 'value': 2.5, 'unit': \"km\"},\n",
    "]\n",
    "d = pd.DataFrame(d_data)\n",
    "scen.add_par(\"d\", d)\n",
    "\n",
    "# add other parameter elements as key list, value, unit\n",
    "scen.add_par(\"d\", [\"san-diego\", \"chicago\"], 1.8, \"km\")\n",
    "scen.add_par(\"d\", [\"san-diego\", \"topeka\"], 1.4, \"km\")"
   ]
  },
  {
   "cell_type": "raw",
   "metadata": {},
   "source": [
    "Scalar f  freight in dollars per case per thousand miles  /90/ ;   "
   ]
  },
  {
   "cell_type": "code",
   "execution_count": null,
   "metadata": {
    "collapsed": true
   },
   "outputs": [],
   "source": [
    "# cost per case per 1000 miles                                                                                                                                                           \n",
    "# initialize scalar with a value and a unit (and optionally a comment)                                                                                                                   \n",
    "scen.init_scalar(\"f\", 90.0, \"USD/km\")"
   ]
  },
  {
   "cell_type": "markdown",
   "metadata": {},
   "source": [
    "### Saving the datastructure to the IX Modeling Platform database"
   ]
  },
  {
   "cell_type": "code",
   "execution_count": null,
   "metadata": {
    "collapsed": true
   },
   "outputs": [],
   "source": [
    "# commit new datastructure to the database\n",
    "# no changes can then be made to the datastructure until a check-out is performed\n",
    "comment = \"importing Dantzig's transport problem for illustration\"\n",
    "comment += \" and testing of the Python interface using a generic datastructure\"                                                                                                                                                                            \n",
    "scen.commit(comment)      \n",
    "\n",
    "# set this new datastructure as the default version for the model/scenario name\n",
    "scen.set_as_default()"
   ]
  },
  {
   "cell_type": "markdown",
   "metadata": {},
   "source": [
    "### Defining variables and equations in the datastructure\n",
    "\n",
    "The levels and marginals of these variables and equations will be imported to the datastructure when reading the gdx solution file."
   ]
  },
  {
   "cell_type": "raw",
   "metadata": {},
   "source": [
    "Variables\n",
    "     x(i,j)  shipment quantities in cases\n",
    "     z       total transportation costs in thousands of dollars ;\n",
    "     \n",
    "Equations\n",
    "     cost        define objective function\n",
    "     supply(i)   observe supply limit at plant i\n",
    "     demand(j)   satisfy demand at market j ;"
   ]
  },
  {
   "cell_type": "code",
   "execution_count": null,
   "metadata": {
    "collapsed": true
   },
   "outputs": [],
   "source": [
    "# perform a check_out to make further changes\n",
    "scen.check_out()\n",
    "\n",
    "# initialize the decision variables and equations\n",
    "scen.init_var(\"z\", None, None)\n",
    "scen.init_var(\"x\", idx_sets=[\"i\", \"j\"])\n",
    "scen.init_equ(\"demand\", idx_sets=[\"j\"])\n",
    "\n",
    "# save changes to database\n",
    "change_comment = \"inialize the model variables and equations\"\n",
    "scen.commit(change_comment)"
   ]
  },
  {
   "cell_type": "markdown",
   "metadata": {},
   "source": [
    "### Solve the model\n",
    "\n",
    "The ``solve()`` function exports the datastructure to a GAMS gdx file, executes GAMS, and then imports the solution from an output GAMS gdx file to the database.\n",
    "\n",
    "For the model equations and the GAMS workflow (reading the data from gdx, solving the model, writing the results to gdx), see ``transport_ixmp.gms``."
   ]
  },
  {
   "cell_type": "code",
   "execution_count": null,
   "metadata": {},
   "outputs": [],
   "source": [
    "scen.solve(model='transport_ixmp', case='transport_standard')"
   ]
  },
  {
   "cell_type": "markdown",
   "metadata": {},
   "source": [
    "### Display and analyze the results"
   ]
  },
  {
   "cell_type": "code",
   "execution_count": null,
   "metadata": {},
   "outputs": [],
   "source": [
    "# display the objective value of the solution\n",
    "scen.var(\"z\")"
   ]
  },
  {
   "cell_type": "code",
   "execution_count": null,
   "metadata": {},
   "outputs": [],
   "source": [
    "# display the quantities transported from canning plants to demand locations\n",
    "scen.var(\"x\")"
   ]
  },
  {
   "cell_type": "code",
   "execution_count": null,
   "metadata": {},
   "outputs": [],
   "source": [
    "# display the quantities and marginals (=shadow prices) of the demand balance constraints\n",
    "scen.equ(\"demand\")"
   ]
  },
  {
   "cell_type": "markdown",
   "metadata": {},
   "source": [
    "### Close the database connection of the IX Modeling Platform\n",
    "\n",
    "This is recommended when working with the local file-based database, i.e., dbtype='HSQLDB'. This command closes the database files and removes temporary data, so that the database files can be copied to a different folder or drive."
   ]
  },
  {
   "cell_type": "code",
   "execution_count": null,
   "metadata": {
    "collapsed": true
   },
   "outputs": [],
   "source": [
    "# close the connection of the platform instance to the database\n",
    "scen.close_db()"
   ]
  },
  {
   "cell_type": "code",
   "execution_count": null,
   "metadata": {
    "collapsed": true
   },
   "outputs": [],
   "source": []
  }
 ],
 "metadata": {
  "anaconda-cloud": {},
  "kernelspec": {
   "display_name": "Python 3",
   "language": "python",
   "name": "python3"
  },
  "language_info": {
   "codemirror_mode": {
    "name": "ipython",
    "version": 3
   },
   "file_extension": ".py",
   "mimetype": "text/x-python",
   "name": "python",
   "nbconvert_exporter": "python",
   "pygments_lexer": "ipython3",
   "version": "3.6.0"
  }
 },
 "nbformat": 4,
 "nbformat_minor": 1
}
