{
 "cells": [
  {
   "cell_type": "markdown",
   "metadata": {},
   "source": [
    "# Tutorial 1 for R\n",
    "\n",
    "## Solve Dantzig's Transport Problem using the *ix modeling platform* (ixmp)\n",
    "\n",
    "<img style=\"float: right; height: 80px;\" src=\"_static/R_logo.png\">\n",
    "\n",
    "This problem finds a least cost shipping schedule that meets requirements at markets and supplies at factories.\n",
    "\n",
    "Dantzig, G B, Chapter 3.3. In Linear Programming and Extensions.\n",
    "Princeton University Press, Princeton, New Jersey, 1963.\n",
    "\n",
    "This formulation is described in detail in:\n",
    "Rosenthal, R E, Chapter 2: A GAMS Tutorial. \n",
    "In GAMS: A User's Guide. The Scientific Press, Redwood City, California, 1988.\n",
    "\n",
    "see http://www.gams.com/mccarl/trnsport.gms"
   ]
  },
  {
   "cell_type": "markdown",
   "metadata": {},
   "source": [
    "### Launching the platform and initializing a new datastructure\n",
    "\n",
    "This datastructure will be used to store all data required to solve Dantzig's transport problem as well as the solution after solving it in GAMS."
   ]
  },
  {
   "cell_type": "code",
   "execution_count": null,
   "metadata": {},
   "outputs": [],
   "source": [
    "# load the ixmp 'package' source code\n",
    "source(file.path(Sys.getenv(\"IXMP_R_PATH\"), \"ixmp.R\"))"
   ]
  },
  {
   "cell_type": "code",
   "execution_count": null,
   "metadata": {},
   "outputs": [],
   "source": [
    "# launch the IX modeling platform using the local default database     \n",
    "mp <- Platform(\"C:\\\\Users\\\\<User>\\\\.local\\\\ixmp\\\\localdb\\\\default\", \"HSQLDB\")"
   ]
  },
  {
   "cell_type": "code",
   "execution_count": null,
   "metadata": {
    "collapsed": true
   },
   "outputs": [],
   "source": [
    "# details for creating a new datastructure in the IX modeling platform         \n",
    "model <- \"canning problem\" \n",
    "scen  <- \"standard\"\n",
    "annot <- \"Dantzig's transportation problem for illustration and testing\" \n",
    " \n",
    "# initialize a new datastructure\n",
    "# the parameter version='new' indicates that this is a new datastructure\n",
    "ds <- mp$DataStructure(model, scen, version=\"new\", annotation=annot)"
   ]
  },
  {
   "cell_type": "code",
   "execution_count": null,
   "metadata": {},
   "outputs": [],
   "source": [
    "ds"
   ]
  },
  {
   "cell_type": "markdown",
   "metadata": {},
   "source": [
    "### Defining the sets in the datastructure"
   ]
  },
  {
   "cell_type": "raw",
   "metadata": {},
   "source": [
    "Sets\n",
    "     i   canning plants   / seattle, san-diego /\n",
    "     j   markets          / new-york, chicago, topeka / ;"
   ]
  },
  {
   "cell_type": "code",
   "execution_count": null,
   "metadata": {
    "collapsed": true
   },
   "outputs": [],
   "source": [
    "# define the sets of locations of canning plants and markets  \n",
    "ds$init_set(\"i\")\n",
    "ds$add_set(\"i\", \"seattle\")\n",
    "ds$add_set(\"i\", \"san-diego\")\n",
    "\n",
    "### markets set\n",
    "ds$init_set(\"j\")\n",
    "ds$add_set(\"j\", \"new-york\")\n",
    "ds$add_set(\"j\", \"chicago\")\n",
    "ds$add_set(\"j\", \"topeka\")"
   ]
  },
  {
   "cell_type": "code",
   "execution_count": null,
   "metadata": {
    "collapsed": true
   },
   "outputs": [],
   "source": [
    "# display the set 'i'\n",
    "ds$set('i')"
   ]
  },
  {
   "cell_type": "markdown",
   "metadata": {},
   "source": [
    "### Defining parameters in the datastructure"
   ]
  },
  {
   "cell_type": "raw",
   "metadata": {},
   "source": [
    "Parameters\n",
    "     a(i)  capacity of plant i in cases\n",
    "       /    seattle     350\n",
    "            san-diego   600  /\n",
    "     b(j)  demand at market j in cases\n",
    "       /    new-york    325\n",
    "            chicago     300\n",
    "            topeka      275  / ;"
   ]
  },
  {
   "cell_type": "code",
   "execution_count": null,
   "metadata": {
    "collapsed": true
   },
   "outputs": [],
   "source": [
    "# capacity of plant i in cases                                                                                                                                                           \n",
    "ds$init_par(\"a\", c(\"i\"))\n",
    "ds$add_par(\"a\", \"seattle\",   350, \"cases\")\n",
    "ds$add_par(\"a\", \"san-diego\", 600, \"cases\")\n",
    "\n",
    "# demand at market j in cases\n",
    "ds$init_par(\"b\", c(\"j\"))\n",
    "ds$add_par(\"b\", \"new-york\",   325, \"cases\")\n",
    "ds$add_par(\"b\", \"chicago\",    300, \"cases\")\n",
    "ds$add_par(\"b\", \"topeka\",     275, \"cases\")\n",
    "\n",
    "# distance in thousands of miles\n",
    "ds$init_par(\"d\", c(\"i\",\"j\"))\n",
    "ds$add_par(\"d\", \"seattle.new-york\",   2.5, \"km\")\n",
    "ds$add_par(\"d\", \"seattle.chicago\",    1.7, \"km\")\n",
    "ds$add_par(\"d\", \"seattle.topeka\",     1.8, \"km\")\n",
    "ds$add_par(\"d\", \"san-diego.new-york\", 2.5, \"km\")\n",
    "ds$add_par(\"d\", \"san-diego.chicago\",  1.8, \"km\")\n",
    "ds$add_par(\"d\", \"san-diego.topeka\",   1.4, \"km\")"
   ]
  },
  {
   "cell_type": "code",
   "execution_count": null,
   "metadata": {
    "collapsed": true
   },
   "outputs": [],
   "source": [
    "# display the parameter 'b'\n",
    "ds$par('b')"
   ]
  },
  {
   "cell_type": "markdown",
   "metadata": {},
   "source": [
    "Scalar f  freight in dollars per case per thousand miles  /90/ ; "
   ]
  },
  {
   "cell_type": "code",
   "execution_count": null,
   "metadata": {
    "collapsed": true
   },
   "outputs": [],
   "source": [
    "# cost per case per 1000 miles\n",
    "# initialize scalar with a value and a unit (and optionally a comment)\n",
    "ds$init_scalar(\"f\", 90.0, \"USD/km\")"
   ]
  },
  {
   "cell_type": "markdown",
   "metadata": {},
   "source": [
    "### Saving the datastructure to the IX Modeling Platform database"
   ]
  },
  {
   "cell_type": "code",
   "execution_count": null,
   "metadata": {
    "collapsed": true
   },
   "outputs": [],
   "source": [
    "# commit new datastructure to the database\n",
    "# no changes can then be made to the datastructure until a check-out is performed\n",
    "comment = \"importing Dantzig's transport problem for illustration of the R interface\"\n",
    "ds$commit(comment)\n",
    "\n",
    "# set this new datastructure as the default version for the model/scenario name\n",
    "ds$set_as_default()"
   ]
  },
  {
   "cell_type": "markdown",
   "metadata": {},
   "source": [
    "### Defining variables and equations in the datastructure\n",
    "\n",
    "The levels and marginals of these variables and equations will be imported to the datastructure when reading the gdx solution file."
   ]
  },
  {
   "cell_type": "raw",
   "metadata": {},
   "source": [
    "Variables\n",
    "     x(i,j)  shipment quantities in cases\n",
    "     z       total transportation costs in thousands of dollars ;\n",
    "     \n",
    "Equations\n",
    "     cost        define objective function\n",
    "     supply(i)   observe supply limit at plant i\n",
    "     demand(j)   satisfy demand at market j ;"
   ]
  },
  {
   "cell_type": "code",
   "execution_count": null,
   "metadata": {
    "collapsed": true
   },
   "outputs": [],
   "source": [
    "# perform a check_out to make further changes\n",
    "ds$check_out()\n",
    "\n",
    "# initialize the decision variables and equations\n",
    "ds$init_var(\"z\", NULL, NULL)\n",
    "ds$init_var(\"x\", idx_sets=c(\"i\", \"j\"))\n",
    "ds$init_equ(\"demand\", idx_sets=c(\"j\"))\n",
    "\n",
    "# save changes to database\n",
    "change_comment = \"inialize the model variables and equations\"\n",
    "ds$commit(change_comment)"
   ]
  },
  {
   "cell_type": "markdown",
   "metadata": {},
   "source": [
    "### Solve the model\n",
    "\n",
    "The ``solve()`` function exports the datastructure to a GAMS gdx file, executes GAMS, and then imports the solution from an output GAMS gdx file to the database.\n",
    "\n",
    "For the model equations and the GAMS workflow (reading the data from gdx, solving the model, writing the results to gdx), see ``transport_ixmp.gms``."
   ]
  },
  {
   "cell_type": "code",
   "execution_count": null,
   "metadata": {
    "collapsed": true
   },
   "outputs": [],
   "source": [
    "ds$solve(model=\"transport_ixmp\")"
   ]
  },
  {
   "cell_type": "markdown",
   "metadata": {
    "collapsed": true
   },
   "source": [
    "### Display and analyze the results"
   ]
  },
  {
   "cell_type": "code",
   "execution_count": null,
   "metadata": {
    "collapsed": true
   },
   "outputs": [],
   "source": [
    "# display the objective value of the solution\n",
    "ds$var(\"z\")"
   ]
  },
  {
   "cell_type": "code",
   "execution_count": null,
   "metadata": {
    "collapsed": true
   },
   "outputs": [],
   "source": [
    "# display the quantities transported from canning plants to demand locations\n",
    "ds$var(\"x\")"
   ]
  },
  {
   "cell_type": "code",
   "execution_count": null,
   "metadata": {
    "collapsed": true
   },
   "outputs": [],
   "source": [
    "# display the quantities and marginals (=shadow prices) of the demand balance constraints\n",
    "ds$equ(\"demand\")"
   ]
  },
  {
   "cell_type": "code",
   "execution_count": null,
   "metadata": {
    "collapsed": true
   },
   "outputs": [],
   "source": []
  }
 ],
 "metadata": {
  "kernelspec": {
   "display_name": "R",
   "language": "R",
   "name": "ir"
  },
  "language_info": {
   "codemirror_mode": "r",
   "file_extension": ".r",
   "mimetype": "text/x-r-source",
   "name": "R",
   "pygments_lexer": "r",
   "version": "3.3.2"
  }
 },
 "nbformat": 4,
 "nbformat_minor": 2
}
